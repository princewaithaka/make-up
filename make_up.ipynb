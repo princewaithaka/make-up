{
  "nbformat": 4,
  "nbformat_minor": 0,
  "metadata": {
    "colab": {
      "provenance": [],
      "authorship_tag": "ABX9TyMw+HZJj6VIMhHe0MIX4I3C",
      "include_colab_link": true
    },
    "kernelspec": {
      "name": "python3",
      "display_name": "Python 3"
    },
    "language_info": {
      "name": "python"
    }
  },
  "cells": [
    {
      "cell_type": "markdown",
      "metadata": {
        "id": "view-in-github",
        "colab_type": "text"
      },
      "source": [
        "<a href=\"https://colab.research.google.com/github/princewaithaka/make-up/blob/main/make_up.ipynb\" target=\"_parent\"><img src=\"https://colab.research.google.com/assets/colab-badge.svg\" alt=\"Open In Colab\"/></a>"
      ]
    },
    {
      "cell_type": "code",
      "execution_count": 1,
      "metadata": {
        "id": "y93UxWnSLfwB"
      },
      "outputs": [],
      "source": [
        "train_data = [\n",
        "    [150, 1, 8],  # Weight, Color (1=red, 2=orange, 3=yellow), Size\n",
        "    [170, 1, 9],\n",
        "    [140, 2, 7],\n",
        "    [130, 2, 6],\n",
        "    [160, 3, 10],\n",
        "    [155, 3, 9]\n",
        "]\n",
        "\n",
        "train_labels = ['apple', 'apple', 'orange', 'orange', 'banana', 'banana']\n",
        "test_data = [145, 1, 8]\n"
      ]
    },
    {
      "cell_type": "code",
      "source": [
        "import math\n",
        "\n",
        "def euclidean_distance(point1, point2):\n",
        "    return math.sqrt(sum((x - y) ** 2 for x, y in zip(point1, point2)))\n"
      ],
      "metadata": {
        "id": "BykqEq06LnZO"
      },
      "execution_count": 2,
      "outputs": []
    },
    {
      "cell_type": "code",
      "source": [
        "def knn(train_data, train_labels, test_data, k):\n",
        "    distances = []\n",
        "    for i in range(len(train_data)):\n",
        "        distance = euclidean_distance(train_data[i], test_data)\n",
        "        distances.append((distance, train_labels[i]))\n",
        "\n",
        "    distances.sort(key=lambda x: x[0])\n",
        "    neighbors = distances[:k]\n",
        "\n",
        "    class_votes = {}\n",
        "    for neighbor in neighbors:\n",
        "        label = neighbor[1]\n",
        "        if label in class_votes:\n",
        "            class_votes[label] += 1\n",
        "        else:\n",
        "            class_votes[label] = 1\n",
        "\n",
        "    sorted_votes = sorted(class_votes.items(), key=lambda x: x[1], reverse=True)\n",
        "    return sorted_votes[0][0]\n"
      ],
      "metadata": {
        "id": "PRsd-i23Lnnw"
      },
      "execution_count": 3,
      "outputs": []
    },
    {
      "cell_type": "code",
      "source": [
        "from sklearn.model_selection import cross_val_score\n",
        "from sklearn.neighbors import KNeighborsClassifier\n",
        "\n",
        "def find_best_k(train_data, train_labels):\n",
        "    best_k = 1\n",
        "    best_score = 0\n",
        "    # Set n_splits to a value less than or equal to the smallest class size\n",
        "    n_splits = min(len(set(train_labels)), 2)  # Changed to 2\n",
        "    for k in range(1, len(train_data) + 1):\n",
        "        knn = KNeighborsClassifier(n_neighbors=k)\n",
        "        scores = cross_val_score(knn, train_data, train_labels, cv=n_splits)\n",
        "        if scores.mean() > best_score:\n",
        "            best_score = scores.mean()\n",
        "            best_k = k\n",
        "    return best_k\n",
        "\n",
        "best_k = find_best_k(train_data, train_labels)\n",
        "print(f\"Best K: {best_k}\")"
      ],
      "metadata": {
        "colab": {
          "base_uri": "https://localhost:8080/"
        },
        "id": "j1EaLtvWMbaC",
        "outputId": "01f1040f-20a7-4177-c03a-ef52cc4ce59e"
      },
      "execution_count": 4,
      "outputs": [
        {
          "output_type": "stream",
          "name": "stdout",
          "text": [
            "Best K: 1\n"
          ]
        },
        {
          "output_type": "stream",
          "name": "stderr",
          "text": [
            "/usr/local/lib/python3.10/dist-packages/sklearn/model_selection/_validation.py:794: UserWarning: Scoring failed. The score on this train-test partition for these parameters will be set to nan. Details: \n",
            "Traceback (most recent call last):\n",
            "  File \"/usr/local/lib/python3.10/dist-packages/sklearn/metrics/_scorer.py\", line 117, in __call__\n",
            "    score = scorer(estimator, *args, **kwargs)\n",
            "  File \"/usr/local/lib/python3.10/dist-packages/sklearn/metrics/_scorer.py\", line 444, in _passthrough_scorer\n",
            "    return estimator.score(*args, **kwargs)\n",
            "  File \"/usr/local/lib/python3.10/dist-packages/sklearn/base.py\", line 668, in score\n",
            "    return accuracy_score(y, self.predict(X), sample_weight=sample_weight)\n",
            "  File \"/usr/local/lib/python3.10/dist-packages/sklearn/neighbors/_classification.py\", line 234, in predict\n",
            "    neigh_ind = self.kneighbors(X, return_distance=False)\n",
            "  File \"/usr/local/lib/python3.10/dist-packages/sklearn/neighbors/_base.py\", line 810, in kneighbors\n",
            "    raise ValueError(\n",
            "ValueError: Expected n_neighbors <= n_samples,  but n_samples = 3, n_neighbors = 4\n",
            "\n",
            "  warnings.warn(\n",
            "/usr/local/lib/python3.10/dist-packages/sklearn/model_selection/_validation.py:794: UserWarning: Scoring failed. The score on this train-test partition for these parameters will be set to nan. Details: \n",
            "Traceback (most recent call last):\n",
            "  File \"/usr/local/lib/python3.10/dist-packages/sklearn/metrics/_scorer.py\", line 117, in __call__\n",
            "    score = scorer(estimator, *args, **kwargs)\n",
            "  File \"/usr/local/lib/python3.10/dist-packages/sklearn/metrics/_scorer.py\", line 444, in _passthrough_scorer\n",
            "    return estimator.score(*args, **kwargs)\n",
            "  File \"/usr/local/lib/python3.10/dist-packages/sklearn/base.py\", line 668, in score\n",
            "    return accuracy_score(y, self.predict(X), sample_weight=sample_weight)\n",
            "  File \"/usr/local/lib/python3.10/dist-packages/sklearn/neighbors/_classification.py\", line 234, in predict\n",
            "    neigh_ind = self.kneighbors(X, return_distance=False)\n",
            "  File \"/usr/local/lib/python3.10/dist-packages/sklearn/neighbors/_base.py\", line 810, in kneighbors\n",
            "    raise ValueError(\n",
            "ValueError: Expected n_neighbors <= n_samples,  but n_samples = 3, n_neighbors = 4\n",
            "\n",
            "  warnings.warn(\n",
            "/usr/local/lib/python3.10/dist-packages/sklearn/model_selection/_validation.py:794: UserWarning: Scoring failed. The score on this train-test partition for these parameters will be set to nan. Details: \n",
            "Traceback (most recent call last):\n",
            "  File \"/usr/local/lib/python3.10/dist-packages/sklearn/metrics/_scorer.py\", line 117, in __call__\n",
            "    score = scorer(estimator, *args, **kwargs)\n",
            "  File \"/usr/local/lib/python3.10/dist-packages/sklearn/metrics/_scorer.py\", line 444, in _passthrough_scorer\n",
            "    return estimator.score(*args, **kwargs)\n",
            "  File \"/usr/local/lib/python3.10/dist-packages/sklearn/base.py\", line 668, in score\n",
            "    return accuracy_score(y, self.predict(X), sample_weight=sample_weight)\n",
            "  File \"/usr/local/lib/python3.10/dist-packages/sklearn/neighbors/_classification.py\", line 234, in predict\n",
            "    neigh_ind = self.kneighbors(X, return_distance=False)\n",
            "  File \"/usr/local/lib/python3.10/dist-packages/sklearn/neighbors/_base.py\", line 810, in kneighbors\n",
            "    raise ValueError(\n",
            "ValueError: Expected n_neighbors <= n_samples,  but n_samples = 3, n_neighbors = 5\n",
            "\n",
            "  warnings.warn(\n",
            "/usr/local/lib/python3.10/dist-packages/sklearn/model_selection/_validation.py:794: UserWarning: Scoring failed. The score on this train-test partition for these parameters will be set to nan. Details: \n",
            "Traceback (most recent call last):\n",
            "  File \"/usr/local/lib/python3.10/dist-packages/sklearn/metrics/_scorer.py\", line 117, in __call__\n",
            "    score = scorer(estimator, *args, **kwargs)\n",
            "  File \"/usr/local/lib/python3.10/dist-packages/sklearn/metrics/_scorer.py\", line 444, in _passthrough_scorer\n",
            "    return estimator.score(*args, **kwargs)\n",
            "  File \"/usr/local/lib/python3.10/dist-packages/sklearn/base.py\", line 668, in score\n",
            "    return accuracy_score(y, self.predict(X), sample_weight=sample_weight)\n",
            "  File \"/usr/local/lib/python3.10/dist-packages/sklearn/neighbors/_classification.py\", line 234, in predict\n",
            "    neigh_ind = self.kneighbors(X, return_distance=False)\n",
            "  File \"/usr/local/lib/python3.10/dist-packages/sklearn/neighbors/_base.py\", line 810, in kneighbors\n",
            "    raise ValueError(\n",
            "ValueError: Expected n_neighbors <= n_samples,  but n_samples = 3, n_neighbors = 5\n",
            "\n",
            "  warnings.warn(\n",
            "/usr/local/lib/python3.10/dist-packages/sklearn/model_selection/_validation.py:794: UserWarning: Scoring failed. The score on this train-test partition for these parameters will be set to nan. Details: \n",
            "Traceback (most recent call last):\n",
            "  File \"/usr/local/lib/python3.10/dist-packages/sklearn/metrics/_scorer.py\", line 117, in __call__\n",
            "    score = scorer(estimator, *args, **kwargs)\n",
            "  File \"/usr/local/lib/python3.10/dist-packages/sklearn/metrics/_scorer.py\", line 444, in _passthrough_scorer\n",
            "    return estimator.score(*args, **kwargs)\n",
            "  File \"/usr/local/lib/python3.10/dist-packages/sklearn/base.py\", line 668, in score\n",
            "    return accuracy_score(y, self.predict(X), sample_weight=sample_weight)\n",
            "  File \"/usr/local/lib/python3.10/dist-packages/sklearn/neighbors/_classification.py\", line 234, in predict\n",
            "    neigh_ind = self.kneighbors(X, return_distance=False)\n",
            "  File \"/usr/local/lib/python3.10/dist-packages/sklearn/neighbors/_base.py\", line 810, in kneighbors\n",
            "    raise ValueError(\n",
            "ValueError: Expected n_neighbors <= n_samples,  but n_samples = 3, n_neighbors = 6\n",
            "\n",
            "  warnings.warn(\n",
            "/usr/local/lib/python3.10/dist-packages/sklearn/model_selection/_validation.py:794: UserWarning: Scoring failed. The score on this train-test partition for these parameters will be set to nan. Details: \n",
            "Traceback (most recent call last):\n",
            "  File \"/usr/local/lib/python3.10/dist-packages/sklearn/metrics/_scorer.py\", line 117, in __call__\n",
            "    score = scorer(estimator, *args, **kwargs)\n",
            "  File \"/usr/local/lib/python3.10/dist-packages/sklearn/metrics/_scorer.py\", line 444, in _passthrough_scorer\n",
            "    return estimator.score(*args, **kwargs)\n",
            "  File \"/usr/local/lib/python3.10/dist-packages/sklearn/base.py\", line 668, in score\n",
            "    return accuracy_score(y, self.predict(X), sample_weight=sample_weight)\n",
            "  File \"/usr/local/lib/python3.10/dist-packages/sklearn/neighbors/_classification.py\", line 234, in predict\n",
            "    neigh_ind = self.kneighbors(X, return_distance=False)\n",
            "  File \"/usr/local/lib/python3.10/dist-packages/sklearn/neighbors/_base.py\", line 810, in kneighbors\n",
            "    raise ValueError(\n",
            "ValueError: Expected n_neighbors <= n_samples,  but n_samples = 3, n_neighbors = 6\n",
            "\n",
            "  warnings.warn(\n"
          ]
        }
      ]
    },
    {
      "cell_type": "code",
      "source": [
        "predicted_label = knn(train_data, train_labels, test_data, best_k)\n",
        "print(f\"The predicted label for the test data is: {predicted_label}\")\n"
      ],
      "metadata": {
        "colab": {
          "base_uri": "https://localhost:8080/"
        },
        "id": "vIf1wetSMb61",
        "outputId": "02831f07-0da7-464c-c7ed-6fa03fa89035"
      },
      "execution_count": 5,
      "outputs": [
        {
          "output_type": "stream",
          "name": "stdout",
          "text": [
            "The predicted label for the test data is: apple\n"
          ]
        }
      ]
    }
  ]
}