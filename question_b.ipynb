{
  "nbformat": 4,
  "nbformat_minor": 0,
  "metadata": {
    "colab": {
      "provenance": [],
      "authorship_tag": "ABX9TyMznWa52aRcsd8G5tUpCBz0",
      "include_colab_link": true
    },
    "kernelspec": {
      "name": "python3",
      "display_name": "Python 3"
    },
    "language_info": {
      "name": "python"
    }
  },
  "cells": [
    {
      "cell_type": "markdown",
      "metadata": {
        "id": "view-in-github",
        "colab_type": "text"
      },
      "source": [
        "<a href=\"https://colab.research.google.com/github/princewaithaka/make-up/blob/main/question_b.ipynb\" target=\"_parent\"><img src=\"https://colab.research.google.com/assets/colab-badge.svg\" alt=\"Open In Colab\"/></a>"
      ]
    },
    {
      "cell_type": "code",
      "execution_count": 1,
      "metadata": {
        "colab": {
          "base_uri": "https://localhost:8080/"
        },
        "id": "2C73rsLXQmvW",
        "outputId": "10fe0708-bb37-4716-c077-75494f5d7e5f"
      },
      "outputs": [
        {
          "output_type": "stream",
          "name": "stdout",
          "text": [
            "Original Data KNN Accuracy: 0.5875\n",
            "Reduced Data KNN Accuracy: 0.5375\n"
          ]
        }
      ],
      "source": [
        "import numpy as np\n",
        "from sklearn.decomposition import PCA\n",
        "from sklearn.neighbors import KNeighborsClassifier\n",
        "from sklearn.model_selection import train_test_split, cross_val_score\n",
        "\n",
        "# Example high-dimensional data\n",
        "np.random.seed(0)\n",
        "high_dim_data = np.random.rand(100, 50)  # 100 samples, 50 features\n",
        "labels = np.random.choice(['class1', 'class2'], 100)\n",
        "\n",
        "# Split the data\n",
        "X_train, X_test, y_train, y_test = train_test_split(high_dim_data, labels, test_size=0.2, random_state=0)\n",
        "\n",
        "# KNN on original data\n",
        "knn = KNeighborsClassifier(n_neighbors=5)\n",
        "original_scores = cross_val_score(knn, X_train, y_train, cv=5)\n",
        "print(f\"Original Data KNN Accuracy: {original_scores.mean()}\")\n",
        "\n",
        "# Apply PCA\n",
        "pca = PCA(n_components=10)  # Reduce to 10 dimensions\n",
        "X_train_pca = pca.fit_transform(X_train)\n",
        "X_test_pca = pca.transform(X_test)\n",
        "\n",
        "# KNN on reduced data\n",
        "knn_pca = KNeighborsClassifier(n_neighbors=5)\n",
        "reduced_scores = cross_val_score(knn_pca, X_train_pca, y_train, cv=5)\n",
        "print(f\"Reduced Data KNN Accuracy: {reduced_scores.mean()}\")\n"
      ]
    }
  ]
}